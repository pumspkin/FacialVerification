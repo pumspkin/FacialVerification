{
 "cells": [
  {
   "cell_type": "code",
   "execution_count": 5,
   "id": "fc513347-6bd5-48fd-af07-ec3df01e5ec2",
   "metadata": {
    "tags": []
   },
   "outputs": [],
   "source": [
    "# import standard dependencies\n",
    "import cv2\n",
    "import os\n",
    "import random\n",
    "import numpy as np\n",
    "from matplotlib import pyplot as plt\n",
    "import uuid # to generate unique image names\n",
    "\n",
    "# import tensorflow dependencies - Functional API. passing through 2 images at same time and measure the similarity. if similar = 1, if diff = 0\n",
    "from tensorflow.keras.models import Model #\n",
    "from tensorflow.keras.layers import Layer, Conv2D, Dense, MaxPooling2D, Input, Flatten\n",
    "import tensorflow as tf"
   ]
  },
  {
   "cell_type": "code",
   "execution_count": 13,
   "id": "ab0a2a58-e253-446b-b04d-e7a53b8f58e0",
   "metadata": {},
   "outputs": [],
   "source": [
    "# Avoid OOM errors by setting GPU Memory Consumption Growth\n",
    "gpus = tf.config.experimental.list_physical_devices('GPU')\n",
    "for gpu in gpus: \n",
    "    tf.config.experimental.set_memory_growth(gpu, True)"
   ]
  },
  {
   "cell_type": "code",
   "execution_count": 6,
   "id": "efc212e4-76b8-4a26-81d5-06f70bcd42cd",
   "metadata": {},
   "outputs": [],
   "source": [
    "# setup paths\n",
    "POS_PATH = os.path.join('data', 'positive') #joins dif directories together to be able to form a full file path. positive verification images\n",
    "NEG_PATH = os.path.join('data', 'negative') #negative verification image\n",
    "ANC_PATH = os.path.join('data', 'anchor')\n",
    "#make the directories\n",
    "#os.makedirs(POS_PATH)\n",
    "#os.makedirs(NEG_PATH)\n",
    "#os.makedirs(ANC_PATH)"
   ]
  },
  {
   "cell_type": "code",
   "execution_count": 8,
   "id": "e71aa473-76d7-40ed-892c-fe982c3533cb",
   "metadata": {},
   "outputs": [],
   "source": [
    "# http://vis-www.cs.umass.edu/lfw/\n",
    "\n",
    "# Uncompress Tar GZ Labelled Faces in the Wild Dataset\n",
    "!tar -xf lfw.tgz"
   ]
  },
  {
   "cell_type": "code",
   "execution_count": 7,
   "id": "35a96bf9-ef5a-4420-b149-96ade25513bb",
   "metadata": {},
   "outputs": [],
   "source": [
    "# Move LFW Images to the following repository data/negative\n",
    "for directory in os.listdir('lfw'):\n",
    "    for file in os.listdir(os.path.join('lfw', directory)):\n",
    "        EX_PATH = os.path.join('lfw', directory, file)\n",
    "        NEW_PATH = os.path.join(NEG_PATH, file)\n",
    "        os.replace(EX_PATH, NEW_PATH)"
   ]
  },
  {
   "cell_type": "code",
   "execution_count": 8,
   "id": "a607d4fc-57a2-4065-ae44-d85bbccf8d0c",
   "metadata": {},
   "outputs": [],
   "source": [
    "# Import uuid library to generate unique image names\n",
    "import uuid"
   ]
  },
  {
   "cell_type": "code",
   "execution_count": 9,
   "id": "b40a75d6-6c6f-45fc-9573-9ec735d9542d",
   "metadata": {
    "tags": []
   },
   "outputs": [
    {
     "data": {
      "text/plain": [
       "'data\\\\anchor\\\\3c91e646-e733-11ec-b224-f0d5bfaceaa8.jpg'"
      ]
     },
     "execution_count": 9,
     "metadata": {},
     "output_type": "execute_result"
    }
   ],
   "source": [
    "os.path.join(ANC_PATH, '{}.jpg'.format(uuid.uuid1()))"
   ]
  },
  {
   "cell_type": "code",
   "execution_count": 229,
   "id": "5c48c2af-ab83-49d4-ab00-01c5c5293e00",
   "metadata": {},
   "outputs": [],
   "source": [
    "# establish connection to webcam\n",
    "cap = cv2.VideoCapture(0)\n",
    "while cap.isOpened():\n",
    "    ret, frame = cap.read()\n",
    "\n",
    "     #cut down from to 250x250px\n",
    "    frame = frame[120:120 +250,200:200 +250, :]\n",
    "    # specifying range of values we want from our pic - we want 250x250 to be the same as lfw\n",
    "    # plt.imshow(frame[120:120 +250,200:200 +250, :])\n",
    "    # plt.show()\n",
    "\n",
    "\n",
    "    # collect anchors - if hit a will take anchor image\n",
    "    if cv2.waitKey(1) & 0XFF == ord('a'):\n",
    "        # create unique file path\n",
    "        imgname = os.path.join(ANC_PATH, '{}.jpg'.format(uuid.uuid1()))\n",
    "        # write out anchor image\n",
    "        cv2.imwrite(imgname, frame)\n",
    "\n",
    "    # collect positives - if hit p will collect positive image\n",
    "    if cv2.waitKey(1) & 0XFF == ord('p'):\n",
    "        # create unique file path\n",
    "        imgname = os.path.join(POS_PATH, '{}.jpg'.format(uuid.uuid1()))\n",
    "        # write out positive image\n",
    "        cv2.imwrite(imgname, frame)\n",
    "\n",
    "    \n",
    "    # show image back to screen\n",
    "    cv2.imshow('Image Collection', frame)\n",
    "    \n",
    "    # breaking gracefully - when hit q will close down frame\n",
    "    if cv2.waitKey(1) & 0XFF == ord('q'):\n",
    "        break\n",
    "\n",
    "# release webcam\n",
    "cap.release()\n",
    "# close image show frame\n",
    "cv2.destroyAllWindows()\n"
   ]
  },
  {
   "cell_type": "code",
   "execution_count": 10,
   "id": "f54cf7a9-3dff-474d-8c7d-b43ab4192282",
   "metadata": {},
   "outputs": [],
   "source": [
    "# grabbing everything inside paths with.jpg on the end - only want 300 images for each\n",
    "anchor = tf.data.Dataset.list_files(ANC_PATH+'\\*.jpg').take(300)\n",
    "positive = tf.data.Dataset.list_files(POS_PATH+'\\*.jpg').take(300)\n",
    "negative = tf.data.Dataset.list_files(NEG_PATH+'\\*.jpg').take(300)"
   ]
  },
  {
   "cell_type": "code",
   "execution_count": 11,
   "id": "d4e1fffa-b76a-444e-bbb7-395d509114f2",
   "metadata": {
    "tags": []
   },
   "outputs": [
    {
     "data": {
      "text/plain": [
       "'data\\\\anchor\\\\*.jpg'"
      ]
     },
     "execution_count": 11,
     "metadata": {},
     "output_type": "execute_result"
    }
   ],
   "source": [
    "ANC_PATH+'\\*.jpg'"
   ]
  },
  {
   "cell_type": "code",
   "execution_count": 12,
   "id": "d368f370-80a7-408a-8706-b928fabe0eb7",
   "metadata": {},
   "outputs": [],
   "source": [
    "dir_test = anchor.as_numpy_iterator()"
   ]
  },
  {
   "cell_type": "code",
   "execution_count": 21,
   "id": "bb305f3c-e599-42f8-bfd1-93622f1c4870",
   "metadata": {},
   "outputs": [
    {
     "name": "stdout",
     "output_type": "stream",
     "text": [
      "b'data\\\\anchor\\\\6ac93229-e338-11ec-accb-f0d5bfaceaa8.jpg'\n"
     ]
    }
   ],
   "source": [
    "print(dir_test.next())"
   ]
  },
  {
   "cell_type": "code",
   "execution_count": 13,
   "id": "3eda2983-48ad-4d69-81c0-6d8505534d3e",
   "metadata": {},
   "outputs": [],
   "source": [
    "# loads image from file path, decode jpg, resize image, scales it\n",
    "def preprocess(file_path):\n",
    "    \n",
    "    # read in image from file path\n",
    "    byte_img = tf.io.read_file(file_path)\n",
    "    # load in the image\n",
    "    img = tf.io.decode_jpeg(byte_img)\n",
    "    \n",
    "    # preprocessing steps - resizing the image to be 100x100px\n",
    "    img = tf.image.resize(img, (100,100))\n",
    "    # scale image to be between 0 and 1 - takes every pixel value which is usually from 0-255 and divides it to be between 0 and 1. \n",
    "    img = img / 255.0\n",
    "    \n",
    "    # Return image\n",
    "    return img"
   ]
  },
  {
   "cell_type": "code",
   "execution_count": 14,
   "id": "6b9bc3ef-95e5-4601-910f-1e4fcf26f965",
   "metadata": {},
   "outputs": [],
   "source": [
    "img = preprocess('data\\\\anchor\\\\60c257fd-e338-11ec-a7d0-f0d5bfaceaa8.jpg')"
   ]
  },
  {
   "cell_type": "code",
   "execution_count": 194,
   "id": "ca62121f-35b0-4335-a832-ef25356f61f0",
   "metadata": {
    "tags": []
   },
   "outputs": [
    {
     "data": {
      "text/plain": [
       "<matplotlib.image.AxesImage at 0x22685176170>"
      ]
     },
     "execution_count": 194,
     "metadata": {},
     "output_type": "execute_result"
    },
    {
     "data": {
      "image/png": "[encoded data removed]",
      "text/plain": [
       "<Figure size 432x288 with 1 Axes>"
      ]
     },
     "metadata": {
      "needs_background": "light"
     },
     "output_type": "display_data"
    }
   ],
   "source": [
    "plt.imshow(img)"
   ]
  },
  {
   "cell_type": "code",
   "execution_count": null,
   "id": "a533ecac-d492-46a9-9423-d02a493d6c52",
   "metadata": {},
   "outputs": [],
   "source": [
    "dataset.map(preprocess)"
   ]
  },
  {
   "cell_type": "code",
   "execution_count": 15,
   "id": "43f4e40c-3d27-445f-9b12-81fc074ec99c",
   "metadata": {},
   "outputs": [],
   "source": [
    "#(anchor, positive) => 1,1,1,1,1\n",
    "#(anchor, negative) => 0,0,0,0,0\n",
    "\n",
    "# Zip allows us to iterate through all 3 at same time.  tf.ones(len) etc is creating a big set af array which represents one - creating labeled positive so there will be 300 of them.\n",
    "# if pass through anchor and positive at same time, it represents 1 - positive recognition\n",
    "# wrapping it inside of this tensorflow data class.\n",
    "positives = tf.data.Dataset.zip((anchor, positive, tf.data.Dataset.from_tensor_slices(tf.ones(len(anchor)))))\n",
    "\n",
    "# created seperate dataset for neatives\n",
    "negatives = tf.data.Dataset.zip((anchor, negative, tf.data.Dataset.from_tensor_slices(tf.zeros(len(anchor)))))\n",
    "\n",
    "# joining positive and negative samples so have in one big dataset\n",
    "data = positives.concatenate(negatives)"
   ]
  },
  {
   "cell_type": "code",
   "execution_count": 106,
   "id": "29c9bd6f-e7c0-47ab-935a-6f0891370583",
   "metadata": {
    "collapsed": true,
    "jupyter": {
     "outputs_hidden": true
    },
    "tags": []
   },
   "outputs": [
    {
     "data": {
      "text/plain": [
       "<tf.Tensor: shape=(300,), dtype=float32, numpy=\n",
       "array([1., 1., 1., 1., 1., 1., 1., 1., 1., 1., 1., 1., 1., 1., 1., 1., 1.,\n",
       "       1., 1., 1., 1., 1., 1., 1., 1., 1., 1., 1., 1., 1., 1., 1., 1., 1.,\n",
       "       1., 1., 1., 1., 1., 1., 1., 1., 1., 1., 1., 1., 1., 1., 1., 1., 1.,\n",
       "       1., 1., 1., 1., 1., 1., 1., 1., 1., 1., 1., 1., 1., 1., 1., 1., 1.,\n",
       "       1., 1., 1., 1., 1., 1., 1., 1., 1., 1., 1., 1., 1., 1., 1., 1., 1.,\n",
       "       1., 1., 1., 1., 1., 1., 1., 1., 1., 1., 1., 1., 1., 1., 1., 1., 1.,\n",
       "       1., 1., 1., 1., 1., 1., 1., 1., 1., 1., 1., 1., 1., 1., 1., 1., 1.,\n",
       "       1., 1., 1., 1., 1., 1., 1., 1., 1., 1., 1., 1., 1., 1., 1., 1., 1.,\n",
       "       1., 1., 1., 1., 1., 1., 1., 1., 1., 1., 1., 1., 1., 1., 1., 1., 1.,\n",
       "       1., 1., 1., 1., 1., 1., 1., 1., 1., 1., 1., 1., 1., 1., 1., 1., 1.,\n",
       "       1., 1., 1., 1., 1., 1., 1., 1., 1., 1., 1., 1., 1., 1., 1., 1., 1.,\n",
       "       1., 1., 1., 1., 1., 1., 1., 1., 1., 1., 1., 1., 1., 1., 1., 1., 1.,\n",
       "       1., 1., 1., 1., 1., 1., 1., 1., 1., 1., 1., 1., 1., 1., 1., 1., 1.,\n",
       "       1., 1., 1., 1., 1., 1., 1., 1., 1., 1., 1., 1., 1., 1., 1., 1., 1.,\n",
       "       1., 1., 1., 1., 1., 1., 1., 1., 1., 1., 1., 1., 1., 1., 1., 1., 1.,\n",
       "       1., 1., 1., 1., 1., 1., 1., 1., 1., 1., 1., 1., 1., 1., 1., 1., 1.,\n",
       "       1., 1., 1., 1., 1., 1., 1., 1., 1., 1., 1., 1., 1., 1., 1., 1., 1.,\n",
       "       1., 1., 1., 1., 1., 1., 1., 1., 1., 1., 1.], dtype=float32)>"
      ]
     },
     "execution_count": 106,
     "metadata": {},
     "output_type": "execute_result"
    }
   ],
   "source": [
    "tf.ones(len(anchor))"
   ]
  },
  {
   "cell_type": "code",
   "execution_count": 16,
   "id": "99aa7c8d-e842-4ec3-b3d2-c4128473d6b8",
   "metadata": {
    "tags": []
   },
   "outputs": [],
   "source": [
    "samples = data.as_numpy_iterator()"
   ]
  },
  {
   "cell_type": "code",
   "execution_count": 17,
   "id": "cf03282f-2bda-4dc1-bdd7-d19ddcddbaca",
   "metadata": {},
   "outputs": [],
   "source": [
    "example = samples.next() #1.0 at end shows it's positive. top line = file path to anchor image, 2nd = file path to possitive image"
   ]
  },
  {
   "cell_type": "code",
   "execution_count": null,
   "id": "83ef6bde-ab3c-4a39-8542-78e966179edf",
   "metadata": {},
   "outputs": [],
   "source": [
    "example"
   ]
  },
  {
   "cell_type": "code",
   "execution_count": 18,
   "id": "8ac8280a-4f49-44c7-b1df-af905e34f3cb",
   "metadata": {},
   "outputs": [],
   "source": [
    "# going to pass through input image, validation image (pos/neg), and our label - effectively what we did in step above\n",
    "def preprocess_twin(input_img, validation_img, label):\n",
    "    # going to load and preprocess input image,validation image and return labe\n",
    "    return(preprocess(input_img), preprocess(validation_img), label)"
   ]
  },
  {
   "cell_type": "code",
   "execution_count": 19,
   "id": "2bbf9b5d-c55b-4e0f-b442-2315c08f1a53",
   "metadata": {
    "collapsed": true,
    "jupyter": {
     "outputs_hidden": true
    },
    "tags": []
   },
   "outputs": [
    {
     "data": {
      "text/plain": [
       "(<tf.Tensor: shape=(100, 100, 3), dtype=float32, numpy=\n",
       " array([[[0.5830882 , 0.6066176 , 0.59093136],\n",
       "         [0.49215686, 0.5147059 , 0.4990196 ],\n",
       "         [0.5566176 , 0.5740196 , 0.564951  ],\n",
       "         ...,\n",
       "         [0.16862746, 0.19215687, 0.19215687],\n",
       "         [0.16470589, 0.1882353 , 0.1882353 ],\n",
       "         [0.17352942, 0.19705883, 0.19705883]],\n",
       " \n",
       "        [[0.5745098 , 0.6007353 , 0.59607846],\n",
       "         [0.5247549 , 0.5502451 , 0.55220586],\n",
       "         [0.4610294 , 0.4865196 , 0.4884804 ],\n",
       "         ...,\n",
       "         [0.16544117, 0.18970588, 0.1732843 ],\n",
       "         [0.16004902, 0.18357843, 0.17377451],\n",
       "         [0.16078432, 0.18431373, 0.17450981]],\n",
       " \n",
       "        [[0.57058823, 0.6019608 , 0.6098039 ],\n",
       "         [0.46029413, 0.49166667, 0.4995098 ],\n",
       "         [0.39142156, 0.4227941 , 0.43063724],\n",
       "         ...,\n",
       "         [0.1629902 , 0.18431373, 0.16053921],\n",
       "         [0.15612745, 0.17671569, 0.15514706],\n",
       "         [0.15      , 0.17058824, 0.14901961]],\n",
       " \n",
       "        ...,\n",
       " \n",
       "        [[0.49068627, 0.529902  , 0.4985294 ],\n",
       "         [0.47720587, 0.51348037, 0.48308823],\n",
       "         [0.46715686, 0.49460784, 0.46715686],\n",
       "         ...,\n",
       "         [0.40367648, 0.44289216, 0.41151962],\n",
       "         [0.4139706 , 0.45318627, 0.42181373],\n",
       "         [0.42352942, 0.4627451 , 0.43137255]],\n",
       " \n",
       "        [[0.51862746, 0.55784315, 0.5235294 ],\n",
       "         [0.5205882 , 0.5568628 , 0.5235294 ],\n",
       "         [0.52794117, 0.55539215, 0.525     ],\n",
       "         ...,\n",
       "         [0.43529412, 0.4745098 , 0.44313726],\n",
       "         [0.4865196 , 0.5257353 , 0.49436274],\n",
       "         [0.5029412 , 0.5421569 , 0.5107843 ]],\n",
       " \n",
       "        [[0.51862746, 0.55784315, 0.52254903],\n",
       "         [0.51960784, 0.55588233, 0.52156866],\n",
       "         [0.5254902 , 0.5529412 , 0.52156866],\n",
       "         ...,\n",
       "         [0.3973039 , 0.4365196 , 0.40514705],\n",
       "         [0.4387255 , 0.475     , 0.452451  ],\n",
       "         [0.5029412 , 0.5382353 , 0.51862746]]], dtype=float32)>,\n",
       " <tf.Tensor: shape=(100, 100, 3), dtype=float32, numpy=\n",
       " array([[[0.59705883, 0.63235295, 0.6127451 ],\n",
       "         [0.595098  , 0.63039213, 0.6107843 ],\n",
       "         [0.5990196 , 0.6254902 , 0.60882354],\n",
       "         ...,\n",
       "         [0.59681374, 0.63284314, 0.6110294 ],\n",
       "         [0.59607846, 0.6313726 , 0.61764705],\n",
       "         [0.5852941 , 0.6284314 , 0.6127451 ]],\n",
       " \n",
       "        [[0.5973039 , 0.6247549 , 0.5973039 ],\n",
       "         [0.5980392 , 0.6333333 , 0.60588235],\n",
       "         [0.5953431 , 0.62107843, 0.6046569 ],\n",
       "         ...,\n",
       "         [0.5879902 , 0.63235295, 0.6159314 ],\n",
       "         [0.59583336, 0.6394608 , 0.6215686 ],\n",
       "         [0.57916665, 0.6223039 , 0.59681374]],\n",
       " \n",
       "        [[0.6009804 , 0.6284314 , 0.5980392 ],\n",
       "         [0.6009804 , 0.627451  , 0.60294116],\n",
       "         [0.5992647 , 0.62941176, 0.6159314 ],\n",
       "         ...,\n",
       "         [0.5656863 , 0.622549  , 0.595098  ],\n",
       "         [0.5867647 , 0.63848037, 0.6036765 ],\n",
       "         [0.56102943, 0.610049  , 0.5757353 ]],\n",
       " \n",
       "        ...,\n",
       " \n",
       "        [[0.5235294 , 0.5627451 , 0.53137255],\n",
       "         [0.51862746, 0.55784315, 0.5264706 ],\n",
       "         [0.52156866, 0.56078434, 0.5294118 ],\n",
       "         ...,\n",
       "         [0.27058825, 0.31691176, 0.30710784],\n",
       "         [0.33848038, 0.38186276, 0.3617647 ],\n",
       "         [0.5375    , 0.5754902 , 0.55269605]],\n",
       " \n",
       "        [[0.51960784, 0.5588235 , 0.527451  ],\n",
       "         [0.52156866, 0.56078434, 0.5294118 ],\n",
       "         [0.52156866, 0.56078434, 0.5294118 ],\n",
       "         ...,\n",
       "         [0.25      , 0.30367646, 0.29313725],\n",
       "         [0.25857842, 0.30490196, 0.29068628],\n",
       "         [0.5227941 , 0.5659314 , 0.5482843 ]],\n",
       " \n",
       "        [[0.51862746, 0.55784315, 0.5264706 ],\n",
       "         [0.51691175, 0.5561274 , 0.5247549 ],\n",
       "         [0.51642156, 0.55563724, 0.5242647 ],\n",
       "         ...,\n",
       "         [0.22965686, 0.28259805, 0.28063726],\n",
       "         [0.23088235, 0.27794117, 0.26421568],\n",
       "         [0.51862746, 0.5656863 , 0.55      ]]], dtype=float32)>,\n",
       " 1.0)"
      ]
     },
     "execution_count": 19,
     "metadata": {},
     "output_type": "execute_result"
    }
   ],
   "source": [
    "# star is unpacking the values\n",
    "preprocess_twin(*example) "
   ]
  },
  {
   "cell_type": "code",
   "execution_count": 20,
   "id": "1a3d7606-3ef6-473a-b252-bb9d2e45d7c2",
   "metadata": {},
   "outputs": [],
   "source": [
    "# Build dataloader pipeline\n",
    "data = data.map(preprocess_twin)\n",
    "# Caches images\n",
    "data = data.cache()\n",
    "# shuffled the images, so not getting all positives, then all negatives\n",
    "data = data.shuffle(buffer_size=1024)"
   ]
  },
  {
   "cell_type": "code",
   "execution_count": 21,
   "id": "eb8b5490-38df-4fef-988b-820f6e17c9d3",
   "metadata": {
    "tags": []
   },
   "outputs": [],
   "source": [
    "samples = data.as_numpy_iterator()"
   ]
  },
  {
   "cell_type": "code",
   "execution_count": 22,
   "id": "978cf24d-9bb0-4ac2-b126-f17ca0009e90",
   "metadata": {
    "tags": []
   },
   "outputs": [],
   "source": [
    "samp = samples.next()"
   ]
  },
  {
   "cell_type": "code",
   "execution_count": 198,
   "id": "0d5c42d6-bd57-44dd-9b65-424c488475e4",
   "metadata": {
    "collapsed": true,
    "jupyter": {
     "outputs_hidden": true
    },
    "tags": []
   },
   "outputs": [
    {
     "data": {
      "text/plain": [
       "<matplotlib.image.AxesImage at 0x2268a0c99f0>"
      ]
     },
     "execution_count": 198,
     "metadata": {},
     "output_type": "execute_result"
    },
    {
     "data": {
      "image/png": "[encoded data removed]",
      "text/plain": [
       "<Figure size 432x288 with 1 Axes>"
      ]
     },
     "metadata": {
      "needs_background": "light"
     },
     "output_type": "display_data"
    }
   ],
   "source": [
    "plt.imshow(samp[0])"
   ]
  },
  {
   "cell_type": "code",
   "execution_count": 199,
   "id": "92bb337d-f77f-4b6b-b162-a56f34bedbad",
   "metadata": {
    "collapsed": true,
    "jupyter": {
     "outputs_hidden": true
    },
    "tags": []
   },
   "outputs": [
    {
     "data": {
      "text/plain": [
       "<matplotlib.image.AxesImage at 0x2268a1172b0>"
      ]
     },
     "execution_count": 199,
     "metadata": {},
     "output_type": "execute_result"
    },
    {
     "data": {
      "image/png": "[encoded data removed]",
      "text/plain": [
       "<Figure size 432x288 with 1 Axes>"
      ]
     },
     "metadata": {
      "needs_background": "light"
     },
     "output_type": "display_data"
    }
   ],
   "source": [
    "plt.imshow(samp[1])"
   ]
  },
  {
   "cell_type": "code",
   "execution_count": 200,
   "id": "931e3c87-48aa-4396-adbb-8079e06089c9",
   "metadata": {
    "tags": []
   },
   "outputs": [
    {
     "data": {
      "text/plain": [
       "1.0"
      ]
     },
     "execution_count": 200,
     "metadata": {},
     "output_type": "execute_result"
    }
   ],
   "source": [
    "samp[2]"
   ]
  },
  {
   "cell_type": "code",
   "execution_count": 112,
   "id": "f3637298-0386-44c3-90da-94b5864c92d7",
   "metadata": {},
   "outputs": [
    {
     "data": {
      "text/plain": [
       "420"
      ]
     },
     "execution_count": 112,
     "metadata": {},
     "output_type": "execute_result"
    }
   ],
   "source": [
    "round(len(data)*.7)"
   ]
  },
  {
   "cell_type": "code",
   "execution_count": 23,
   "id": "f9c3369d-ce75-40ec-8407-070ab22779f3",
   "metadata": {},
   "outputs": [],
   "source": [
    "# Training partition\n",
    "# grabbing 70% - which is 420 images for training partition\n",
    "train_data = data.take(round(len(data)*.7))\n",
    "# passing through data as batches of16 images\n",
    "train_data = train_data.batch(16)\n",
    "#starts preprocessing the next batch of images\n",
    "train_data = train_data.prefetch(8)"
   ]
  },
  {
   "cell_type": "code",
   "execution_count": 24,
   "id": "89ba5e89-42c6-40bf-bbae-5d19639fb5ac",
   "metadata": {},
   "outputs": [
    {
     "data": {
      "text/plain": [
       "<PrefetchDataset element_spec=(TensorSpec(shape=(None, 100, 100, None), dtype=tf.float32, name=None), TensorSpec(shape=(None, 100, 100, None), dtype=tf.float32, name=None), TensorSpec(shape=(None,), dtype=tf.float32, name=None))>"
      ]
     },
     "execution_count": 24,
     "metadata": {},
     "output_type": "execute_result"
    }
   ],
   "source": [
    "train_data"
   ]
  },
  {
   "cell_type": "code",
   "execution_count": 25,
   "id": "0564328b-3b10-43ef-8dd4-e1115d9319a0",
   "metadata": {},
   "outputs": [],
   "source": [
    "# Testing partition\n",
    "# skipped first 420 images\n",
    "test_data = data.skip(round(len(data)*.7))\n",
    "# passing through last 30% - 180 images\n",
    "test_data = test_data.take(round(len(data)*.3))\n",
    "test_data = test_data.batch(16)\n",
    "test_data = test_data.prefetch(8)"
   ]
  },
  {
   "cell_type": "code",
   "execution_count": 26,
   "id": "eb6a158c-5065-4119-883c-94bc29d168f8",
   "metadata": {},
   "outputs": [],
   "source": [
    "inp = Input(shape=(100,100,3), name='input_image')"
   ]
  },
  {
   "cell_type": "code",
   "execution_count": 27,
   "id": "10027bf7-a59d-4735-8501-8222db79a92e",
   "metadata": {},
   "outputs": [],
   "source": [
    "c1 = Conv2D(64, (10,10), activation='relu')(inp)"
   ]
  },
  {
   "cell_type": "code",
   "execution_count": 28,
   "id": "8ae39008-3dd8-4374-8d3e-3b7b587e5572",
   "metadata": {},
   "outputs": [],
   "source": [
    "m1 = MaxPooling2D(64, (2,2), padding='same')(c1)"
   ]
  },
  {
   "cell_type": "code",
   "execution_count": 29,
   "id": "e4284130-1e50-4ae6-911d-05d48d630f36",
   "metadata": {},
   "outputs": [],
   "source": [
    "c2 = Conv2D(128, (7,7), activation='relu')(m1)\n",
    "m2 = MaxPooling2D(64, (2,2), padding='same')(c2)"
   ]
  },
  {
   "cell_type": "code",
   "execution_count": 30,
   "id": "c5cd8b3c-1749-4fc6-911c-527aec63aee5",
   "metadata": {},
   "outputs": [],
   "source": [
    "c3 = Conv2D(128, (4,4), activation='relu')(m2)\n",
    "m3 = MaxPooling2D(64, (2,2), padding='same')(c3)"
   ]
  },
  {
   "cell_type": "code",
   "execution_count": 31,
   "id": "e3d7456e-872a-4db3-9d23-c44bf9a9a240",
   "metadata": {},
   "outputs": [],
   "source": [
    "c4 = Conv2D(256, (4,4), activation='relu')(m3)\n",
    "f1 = Flatten()(c4)\n",
    "d1 = Dense(4096, activation='sigmoid')(f1)"
   ]
  },
  {
   "cell_type": "code",
   "execution_count": 32,
   "id": "bbe53eda-aaff-4eb4-86b5-0bd1aa7868b6",
   "metadata": {},
   "outputs": [],
   "source": [
    "mod = Model(inputs=[inp], outputs=[d1], name='embedding')"
   ]
  },
  {
   "cell_type": "code",
   "execution_count": 33,
   "id": "b49a073c-2904-4ab3-9b8c-370cfc846853",
   "metadata": {
    "collapsed": true,
    "jupyter": {
     "outputs_hidden": true
    },
    "tags": []
   },
   "outputs": [
    {
     "name": "stdout",
     "output_type": "stream",
     "text": [
      "Model: \"embedding\"\n",
      "_________________________________________________________________\n",
      " Layer (type)                Output Shape              Param #   \n",
      "=================================================================\n",
      " input_image (InputLayer)    [(None, 100, 100, 3)]     0         \n",
      "                                                                 \n",
      " conv2d (Conv2D)             (None, 91, 91, 64)        19264     \n",
      "                                                                 \n",
      " max_pooling2d (MaxPooling2D  (None, 46, 46, 64)       0         \n",
      " )                                                               \n",
      "                                                                 \n",
      " conv2d_1 (Conv2D)           (None, 40, 40, 128)       401536    \n",
      "                                                                 \n",
      " max_pooling2d_1 (MaxPooling  (None, 20, 20, 128)      0         \n",
      " 2D)                                                             \n",
      "                                                                 \n",
      " conv2d_2 (Conv2D)           (None, 17, 17, 128)       262272    \n",
      "                                                                 \n",
      " max_pooling2d_2 (MaxPooling  (None, 9, 9, 128)        0         \n",
      " 2D)                                                             \n",
      "                                                                 \n",
      " conv2d_3 (Conv2D)           (None, 6, 6, 256)         524544    \n",
      "                                                                 \n",
      " flatten (Flatten)           (None, 9216)              0         \n",
      "                                                                 \n",
      " dense (Dense)               (None, 4096)              37752832  \n",
      "                                                                 \n",
      "=================================================================\n",
      "Total params: 38,960,448\n",
      "Trainable params: 38,960,448\n",
      "Non-trainable params: 0\n",
      "_________________________________________________________________\n"
     ]
    }
   ],
   "source": [
    "mod.summary()"
   ]
  },
  {
   "cell_type": "code",
   "execution_count": 34,
   "id": "9c74c9cc-9995-4558-9188-b82427600081",
   "metadata": {},
   "outputs": [],
   "source": [
    "def make_embedding(): \n",
    "    # defining our input - this is our input layer\n",
    "    inp = Input(shape=(100,100,3), name='input_image')\n",
    "    \n",
    "    # First block\n",
    "    # convolution is taking the number of filters that we want to pass through and our filter shape will be 10 pixels by 10 pixels.   \n",
    "    # need to aply relu activation. Then passing input through convolution layer\n",
    "    c1 = Conv2D(64, (10,10), activation='relu')(inp)\n",
    "    m1 = MaxPooling2D(64, (2,2), padding='same')(c1)\n",
    "    \n",
    "    # Second block\n",
    "    c2 = Conv2D(128, (7,7), activation='relu')(m1)\n",
    "    m2 = MaxPooling2D(64, (2,2), padding='same')(c2)\n",
    "    \n",
    "    # Third block \n",
    "    c3 = Conv2D(128, (4,4), activation='relu')(m2)\n",
    "    m3 = MaxPooling2D(64, (2,2), padding='same')(c3)\n",
    "    \n",
    "    # Final embedding block\n",
    "    c4 = Conv2D(256, (4,4), activation='relu')(m3)\n",
    "    f1 = Flatten()(c4)\n",
    "    d1 = Dense(4096, activation='sigmoid')(f1)\n",
    "    \n",
    "    \n",
    "    return Model(inputs=[inp], outputs=[d1], name='embedding')"
   ]
  },
  {
   "cell_type": "code",
   "execution_count": 35,
   "id": "315f469d-e6e9-49d5-81d0-dcc05b4722fc",
   "metadata": {},
   "outputs": [],
   "source": [
    "embedding = make_embedding()"
   ]
  },
  {
   "cell_type": "code",
   "execution_count": 42,
   "id": "e288ac1f-4318-471a-82be-d725dbaa75e4",
   "metadata": {
    "collapsed": true,
    "jupyter": {
     "outputs_hidden": true
    },
    "tags": []
   },
   "outputs": [
    {
     "name": "stdout",
     "output_type": "stream",
     "text": [
      "Model: \"embedding\"\n",
      "_________________________________________________________________\n",
      " Layer (type)                Output Shape              Param #   \n",
      "=================================================================\n",
      " input_image (InputLayer)    [(None, 100, 100, 3)]     0         \n",
      "                                                                 \n",
      " conv2d_4 (Conv2D)           (None, 91, 91, 64)        19264     \n",
      "                                                                 \n",
      " max_pooling2d_3 (MaxPooling  (None, 46, 46, 64)       0         \n",
      " 2D)                                                             \n",
      "                                                                 \n",
      " conv2d_5 (Conv2D)           (None, 40, 40, 128)       401536    \n",
      "                                                                 \n",
      " max_pooling2d_4 (MaxPooling  (None, 20, 20, 128)      0         \n",
      " 2D)                                                             \n",
      "                                                                 \n",
      " conv2d_6 (Conv2D)           (None, 17, 17, 128)       262272    \n",
      "                                                                 \n",
      " max_pooling2d_5 (MaxPooling  (None, 9, 9, 128)        0         \n",
      " 2D)                                                             \n",
      "                                                                 \n",
      " conv2d_7 (Conv2D)           (None, 6, 6, 256)         524544    \n",
      "                                                                 \n",
      " flatten_1 (Flatten)         (None, 9216)              0         \n",
      "                                                                 \n",
      " dense_1 (Dense)             (None, 4096)              37752832  \n",
      "                                                                 \n",
      "=================================================================\n",
      "Total params: 38,960,448\n",
      "Trainable params: 38,960,448\n",
      "Non-trainable params: 0\n",
      "_________________________________________________________________\n"
     ]
    }
   ],
   "source": [
    "embedding.summary()"
   ]
  },
  {
   "cell_type": "code",
   "execution_count": 36,
   "id": "7f54be69-8709-40bc-8253-a97191306aa2",
   "metadata": {
    "tags": []
   },
   "outputs": [],
   "source": [
    "# Siamese L1 Distance class\n",
    "class L1Dist(Layer):\n",
    "    \n",
    "    # Init method - inheritance\n",
    "    def __init__(self, **kwargs):\n",
    "        super().__init__()\n",
    "       \n",
    "    # similarity calculation\n",
    "    def call(self, input_embedding, validation_embedding):\n",
    "        return tf.math.abs(input_embedding - validation_embedding)"
   ]
  },
  {
   "cell_type": "code",
   "execution_count": 37,
   "id": "48df8e17-86b2-41e5-9c2f-d5880c60e8a7",
   "metadata": {},
   "outputs": [],
   "source": [
    "l1 = L1Dist()"
   ]
  },
  {
   "cell_type": "code",
   "execution_count": null,
   "id": "35c85a57-5a46-430e-8378-d5baba544d84",
   "metadata": {},
   "outputs": [],
   "source": [
    "l1(anchor_embedding, validation_embedding)"
   ]
  },
  {
   "cell_type": "code",
   "execution_count": 39,
   "id": "c46a23df-35e1-4a9a-8f01-8e9c853c8047",
   "metadata": {},
   "outputs": [],
   "source": [
    "input_image = Input(name='input_img', shape=(100,100,3))\n",
    "validation_image = Input(name='validation_img', shape=(100,100,3))"
   ]
  },
  {
   "cell_type": "code",
   "execution_count": 40,
   "id": "0da16802-96ed-4754-9361-559a95cbdeb6",
   "metadata": {},
   "outputs": [],
   "source": [
    "inp_embedding = embedding(input_image)\n",
    "val_embedding = embedding(validation_image)"
   ]
  },
  {
   "cell_type": "code",
   "execution_count": 41,
   "id": "42c8257c-0705-484d-9c6c-38205699a277",
   "metadata": {},
   "outputs": [],
   "source": [
    "siamese_layer = L1Dist()"
   ]
  },
  {
   "cell_type": "code",
   "execution_count": 42,
   "id": "b56a40ef-cf98-4ad8-bc25-1b36f10864db",
   "metadata": {},
   "outputs": [],
   "source": [
    "distances = siamese_layer(inp_embedding, val_embedding)"
   ]
  },
  {
   "cell_type": "code",
   "execution_count": 43,
   "id": "2e07f9d8-5506-475a-a949-8da7abd34286",
   "metadata": {},
   "outputs": [],
   "source": [
    "classifier = Dense(1, activation='sigmoid')(distances)"
   ]
  },
  {
   "cell_type": "code",
   "execution_count": 180,
   "id": "18e24858-d6ae-48a2-9fda-63aac8eb345a",
   "metadata": {},
   "outputs": [
    {
     "data": {
      "text/plain": [
       "<KerasTensor: shape=(None, 1) dtype=float32 (created by layer 'dense_7')>"
      ]
     },
     "execution_count": 180,
     "metadata": {},
     "output_type": "execute_result"
    }
   ],
   "source": [
    "classifier"
   ]
  },
  {
   "cell_type": "code",
   "execution_count": 44,
   "id": "c1f54b9f-6c84-412f-8e81-c81ae2930c5d",
   "metadata": {},
   "outputs": [],
   "source": [
    "siamese_network = Model(inputs=[input_image, validation_image], outputs=classifier, name='SiameseNetwork')"
   ]
  },
  {
   "cell_type": "code",
   "execution_count": 188,
   "id": "3490aab0-0acf-4a62-bd53-c58b0ad33e20",
   "metadata": {
    "collapsed": true,
    "jupyter": {
     "outputs_hidden": true
    },
    "tags": []
   },
   "outputs": [
    {
     "name": "stdout",
     "output_type": "stream",
     "text": [
      "Model: \"SiameseNetwork\"\n",
      "__________________________________________________________________________________________________\n",
      " Layer (type)                   Output Shape         Param #     Connected to                     \n",
      "==================================================================================================\n",
      " input_img (InputLayer)         [(None, 100, 100, 3  0           []                               \n",
      "                                )]                                                                \n",
      "                                                                                                  \n",
      " validation_img (InputLayer)    [(None, 100, 100, 3  0           []                               \n",
      "                                )]                                                                \n",
      "                                                                                                  \n",
      " embedding (Functional)         (None, 4096)         38960448    ['input_img[0][0]',              \n",
      "                                                                  'validation_img[0][0]']         \n",
      "                                                                                                  \n",
      " l1_dist_9 (L1Dist)             (None, 4096)         0           ['embedding[1][0]',              \n",
      "                                                                  'embedding[2][0]']              \n",
      "                                                                                                  \n",
      " dense_7 (Dense)                (None, 1)            4097        ['l1_dist_9[1][0]']              \n",
      "                                                                                                  \n",
      "==================================================================================================\n",
      "Total params: 38,964,545\n",
      "Trainable params: 38,964,545\n",
      "Non-trainable params: 0\n",
      "__________________________________________________________________________________________________\n"
     ]
    }
   ],
   "source": [
    "siamese_network.summary()"
   ]
  },
  {
   "cell_type": "code",
   "execution_count": 45,
   "id": "e0a1119a-8126-4651-a46b-08d96649e19d",
   "metadata": {},
   "outputs": [],
   "source": [
    "def make_siamese_model(): \n",
    "    \n",
    "    # Anchor image input in the network\n",
    "    input_image = Input(name='input_img', shape=(100,100,3))\n",
    "    \n",
    "    # Validation image in the network \n",
    "    validation_image = Input(name='validation_img', shape=(100,100,3))\n",
    "    \n",
    "    # Combine siamese distance components\n",
    "    siamese_layer = L1Dist()\n",
    "    siamese_layer._name = 'distance'\n",
    "    distances = siamese_layer(embedding(input_image), embedding(validation_image))\n",
    "    \n",
    "    # Classification layer \n",
    "    classifier = Dense(1, activation='sigmoid')(distances)\n",
    "    \n",
    "    return Model(inputs=[input_image, validation_image], outputs=classifier, name='SiameseNetwork')"
   ]
  },
  {
   "cell_type": "code",
   "execution_count": 46,
   "id": "25ec5989-cc89-4e8a-bf9c-0ab1b24eefec",
   "metadata": {},
   "outputs": [],
   "source": [
    "siamese_model = make_siamese_model()"
   ]
  },
  {
   "cell_type": "code",
   "execution_count": 190,
   "id": "a8d40c90-629b-4b5b-bba0-78c206844b49",
   "metadata": {
    "collapsed": true,
    "jupyter": {
     "outputs_hidden": true
    },
    "tags": []
   },
   "outputs": [
    {
     "name": "stdout",
     "output_type": "stream",
     "text": [
      "Model: \"SiameseNetwork\"\n",
      "__________________________________________________________________________________________________\n",
      " Layer (type)                   Output Shape         Param #     Connected to                     \n",
      "==================================================================================================\n",
      " input_img (InputLayer)         [(None, 100, 100, 3  0           []                               \n",
      "                                )]                                                                \n",
      "                                                                                                  \n",
      " validation_img (InputLayer)    [(None, 100, 100, 3  0           []                               \n",
      "                                )]                                                                \n",
      "                                                                                                  \n",
      " embedding (Functional)         (None, 4096)         38960448    ['input_img[0][0]',              \n",
      "                                                                  'validation_img[0][0]']         \n",
      "                                                                                                  \n",
      " distance (L1Dist)              (None, 4096)         0           ['embedding[4][0]',              \n",
      "                                                                  'embedding[5][0]']              \n",
      "                                                                                                  \n",
      " dense_8 (Dense)                (None, 1)            4097        ['distance[0][0]']               \n",
      "                                                                                                  \n",
      "==================================================================================================\n",
      "Total params: 38,964,545\n",
      "Trainable params: 38,964,545\n",
      "Non-trainable params: 0\n",
      "__________________________________________________________________________________________________\n"
     ]
    }
   ],
   "source": [
    "siamese_model.summary()"
   ]
  },
  {
   "cell_type": "code",
   "execution_count": 47,
   "id": "9a5d5f91-ec17-4a9d-9fa0-e04e068618fc",
   "metadata": {},
   "outputs": [],
   "source": [
    "# Cross-entropy loss refers to the contrast between two random variables; it measures them in order to extract the difference in the information they contain, showcasing the results. We use this type of loss function to calculate how accurate our machine learning or deep learning model is by defining the difference between the estimated probability with our desired outcome. \n",
    "# this type of loss function measures your model’s performance by transforming its variables into real numbers, thus, evaluating the “loss” that’s associated with them\n",
    "binary_cross_loss = tf.losses.BinaryCrossentropy()"
   ]
  },
  {
   "cell_type": "code",
   "execution_count": 48,
   "id": "bcc01c4e-5fd9-46f9-a29a-7470b81392b9",
   "metadata": {},
   "outputs": [],
   "source": [
    "opt = tf.keras.optimizers.Adam(1e-4) # 0.0001 "
   ]
  },
  {
   "cell_type": "code",
   "execution_count": 49,
   "id": "25a13fe6-1f01-4247-a746-0880c4adf6a8",
   "metadata": {},
   "outputs": [],
   "source": [
    "# defined a directory where going to keep all our checkpoints\n",
    "checkpoint_dir = './training_checkpoints'\n",
    "# going to prefix all our checkpoints with ckpt - they'll all be in consistent format\n",
    "checkpoint_prefix = os.path.join(checkpoint_dir, 'ckpt')\n",
    "checkpoint = tf.train.Checkpoint(opt=opt, siamese_model=siamese_model)"
   ]
  },
  {
   "cell_type": "code",
   "execution_count": 50,
   "id": "b4784148-d06d-407e-abf4-c31ceec3aa01",
   "metadata": {},
   "outputs": [],
   "source": [
    "test_batch = train_data.as_numpy_iterator()"
   ]
  },
  {
   "cell_type": "code",
   "execution_count": 51,
   "id": "c381e72f-26c1-4d7f-9074-f84f7ec0d016",
   "metadata": {},
   "outputs": [],
   "source": [
    "batch_1 = test_batch.next()"
   ]
  },
  {
   "cell_type": "code",
   "execution_count": 52,
   "id": "21d5fc44-f4de-4364-97a4-35e79da5e94a",
   "metadata": {},
   "outputs": [],
   "source": [
    "# slicing first 2 values\n",
    "X = batch_1[:2]"
   ]
  },
  {
   "cell_type": "code",
   "execution_count": 53,
   "id": "1f54880b-8c3f-419b-b5b1-a101f45e9f56",
   "metadata": {},
   "outputs": [],
   "source": [
    "# all of our labels\n",
    "y = batch_1[2]"
   ]
  },
  {
   "cell_type": "code",
   "execution_count": 221,
   "id": "65ce8e96-0c7e-4688-bdd1-376bca01918d",
   "metadata": {},
   "outputs": [
    {
     "data": {
      "text/plain": [
       "array([1., 0., 0., 0., 1., 0., 1., 0., 1., 1., 1., 1., 0., 1., 1., 1.],\n",
       "      dtype=float32)"
      ]
     },
     "execution_count": 221,
     "metadata": {},
     "output_type": "execute_result"
    }
   ],
   "source": [
    "y"
   ]
  },
  {
   "cell_type": "code",
   "execution_count": 223,
   "id": "2cfd4fab-4728-4914-aae4-217344c10839",
   "metadata": {
    "collapsed": true,
    "jupyter": {
     "outputs_hidden": true
    },
    "tags": []
   },
   "outputs": [
    {
     "data": {
      "text/plain": [
       "\u001b[1;31mInit signature:\u001b[0m\n",
       "\u001b[0mtf\u001b[0m\u001b[1;33m.\u001b[0m\u001b[0mlosses\u001b[0m\u001b[1;33m.\u001b[0m\u001b[0mBinaryCrossentropy\u001b[0m\u001b[1;33m(\u001b[0m\u001b[1;33m\n",
       "\u001b[0m    \u001b[0mfrom_logits\u001b[0m\u001b[1;33m=\u001b[0m\u001b[1;32mFalse\u001b[0m\u001b[1;33m,\u001b[0m\u001b[1;33m\n",
       "\u001b[0m    \u001b[0mlabel_smoothing\u001b[0m\u001b[1;33m=\u001b[0m\u001b[1;36m0.0\u001b[0m\u001b[1;33m,\u001b[0m\u001b[1;33m\n",
       "\u001b[0m    \u001b[0maxis\u001b[0m\u001b[1;33m=\u001b[0m\u001b[1;33m-\u001b[0m\u001b[1;36m1\u001b[0m\u001b[1;33m,\u001b[0m\u001b[1;33m\n",
       "\u001b[0m    \u001b[0mreduction\u001b[0m\u001b[1;33m=\u001b[0m\u001b[1;34m'auto'\u001b[0m\u001b[1;33m,\u001b[0m\u001b[1;33m\n",
       "\u001b[0m    \u001b[0mname\u001b[0m\u001b[1;33m=\u001b[0m\u001b[1;34m'binary_crossentropy'\u001b[0m\u001b[1;33m,\u001b[0m\u001b[1;33m\n",
       "\u001b[0m\u001b[1;33m)\u001b[0m\u001b[1;33m\u001b[0m\u001b[1;33m\u001b[0m\u001b[0m\n",
       "\u001b[1;31mSource:\u001b[0m        \n",
       "\u001b[1;33m@\u001b[0m\u001b[0mkeras_export\u001b[0m\u001b[1;33m(\u001b[0m\u001b[1;34m'keras.losses.BinaryCrossentropy'\u001b[0m\u001b[1;33m)\u001b[0m\u001b[1;33m\n",
       "\u001b[0m\u001b[1;32mclass\u001b[0m \u001b[0mBinaryCrossentropy\u001b[0m\u001b[1;33m(\u001b[0m\u001b[0mLossFunctionWrapper\u001b[0m\u001b[1;33m)\u001b[0m\u001b[1;33m:\u001b[0m\u001b[1;33m\n",
       "\u001b[0m  \u001b[1;34m\"\"\"Computes the cross-entropy loss between true labels and predicted labels.\n",
       "\n",
       "  Use this cross-entropy loss for binary (0 or 1) classification applications.\n",
       "  The loss function requires the following inputs:\n",
       "\n",
       "  - `y_true` (true label): This is either 0 or 1.\n",
       "  - `y_pred` (predicted value): This is the model's prediction, i.e, a single\n",
       "    floating-point value which either represents a\n",
       "    [logit](https://en.wikipedia.org/wiki/Logit), (i.e, value in [-inf, inf]\n",
       "    when `from_logits=True`) or a probability (i.e, value in [0., 1.] when\n",
       "    `from_logits=False`).\n",
       "\n",
       "  **Recommended Usage:** (set `from_logits=True`)\n",
       "\n",
       "  With `tf.keras` API:\n",
       "\n",
       "  ```python\n",
       "  model.compile(\n",
       "    loss=tf.keras.losses.BinaryCrossentropy(from_logits=True),\n",
       "    ....\n",
       "  )\n",
       "  ```\n",
       "\n",
       "  As a standalone function:\n",
       "\n",
       "  >>> # Example 1: (batch_size = 1, number of samples = 4)\n",
       "  >>> y_true = [0, 1, 0, 0]\n",
       "  >>> y_pred = [-18.6, 0.51, 2.94, -12.8]\n",
       "  >>> bce = tf.keras.losses.BinaryCrossentropy(from_logits=True)\n",
       "  >>> bce(y_true, y_pred).numpy()\n",
       "  0.865\n",
       "\n",
       "  >>> # Example 2: (batch_size = 2, number of samples = 4)\n",
       "  >>> y_true = [[0, 1], [0, 0]]\n",
       "  >>> y_pred = [[-18.6, 0.51], [2.94, -12.8]]\n",
       "  >>> # Using default 'auto'/'sum_over_batch_size' reduction type.\n",
       "  >>> bce = tf.keras.losses.BinaryCrossentropy(from_logits=True)\n",
       "  >>> bce(y_true, y_pred).numpy()\n",
       "  0.865\n",
       "  >>> # Using 'sample_weight' attribute\n",
       "  >>> bce(y_true, y_pred, sample_weight=[0.8, 0.2]).numpy()\n",
       "  0.243\n",
       "  >>> # Using 'sum' reduction` type.\n",
       "  >>> bce = tf.keras.losses.BinaryCrossentropy(from_logits=True,\n",
       "  ...     reduction=tf.keras.losses.Reduction.SUM)\n",
       "  >>> bce(y_true, y_pred).numpy()\n",
       "  1.730\n",
       "  >>> # Using 'none' reduction type.\n",
       "  >>> bce = tf.keras.losses.BinaryCrossentropy(from_logits=True,\n",
       "  ...     reduction=tf.keras.losses.Reduction.NONE)\n",
       "  >>> bce(y_true, y_pred).numpy()\n",
       "  array([0.235, 1.496], dtype=float32)\n",
       "\n",
       "  **Default Usage:** (set `from_logits=False`)\n",
       "\n",
       "  >>> # Make the following updates to the above \"Recommended Usage\" section\n",
       "  >>> # 1. Set `from_logits=False`\n",
       "  >>> tf.keras.losses.BinaryCrossentropy() # OR ...('from_logits=False')\n",
       "  >>> # 2. Update `y_pred` to use probabilities instead of logits\n",
       "  >>> y_pred = [0.6, 0.3, 0.2, 0.8] # OR [[0.6, 0.3], [0.2, 0.8]]\n",
       "  \"\"\"\u001b[0m\u001b[1;33m\n",
       "\u001b[0m\u001b[1;33m\n",
       "\u001b[0m  \u001b[1;32mdef\u001b[0m \u001b[0m__init__\u001b[0m\u001b[1;33m(\u001b[0m\u001b[0mself\u001b[0m\u001b[1;33m,\u001b[0m\u001b[1;33m\n",
       "\u001b[0m               \u001b[0mfrom_logits\u001b[0m\u001b[1;33m=\u001b[0m\u001b[1;32mFalse\u001b[0m\u001b[1;33m,\u001b[0m\u001b[1;33m\n",
       "\u001b[0m               \u001b[0mlabel_smoothing\u001b[0m\u001b[1;33m=\u001b[0m\u001b[1;36m0.\u001b[0m\u001b[1;33m,\u001b[0m\u001b[1;33m\n",
       "\u001b[0m               \u001b[0maxis\u001b[0m\u001b[1;33m=\u001b[0m\u001b[1;33m-\u001b[0m\u001b[1;36m1\u001b[0m\u001b[1;33m,\u001b[0m\u001b[1;33m\n",
       "\u001b[0m               \u001b[0mreduction\u001b[0m\u001b[1;33m=\u001b[0m\u001b[0mlosses_utils\u001b[0m\u001b[1;33m.\u001b[0m\u001b[0mReductionV2\u001b[0m\u001b[1;33m.\u001b[0m\u001b[0mAUTO\u001b[0m\u001b[1;33m,\u001b[0m\u001b[1;33m\n",
       "\u001b[0m               \u001b[0mname\u001b[0m\u001b[1;33m=\u001b[0m\u001b[1;34m'binary_crossentropy'\u001b[0m\u001b[1;33m)\u001b[0m\u001b[1;33m:\u001b[0m\u001b[1;33m\n",
       "\u001b[0m    \u001b[1;34m\"\"\"Initializes `BinaryCrossentropy` instance.\n",
       "\n",
       "    Args:\n",
       "      from_logits: Whether to interpret `y_pred` as a tensor of\n",
       "        [logit](https://en.wikipedia.org/wiki/Logit) values. By default, we\n",
       "          assume that `y_pred` contains probabilities (i.e., values in [0, 1]).\n",
       "      label_smoothing: Float in [0, 1]. When 0, no smoothing occurs. When > 0,\n",
       "        we compute the loss between the predicted labels and a smoothed version\n",
       "        of the true labels, where the smoothing squeezes the labels towards 0.5.\n",
       "        Larger values of `label_smoothing` correspond to heavier smoothing.\n",
       "      axis: The axis along which to compute crossentropy (the features axis).\n",
       "        Defaults to -1.\n",
       "      reduction: Type of `tf.keras.losses.Reduction` to apply to\n",
       "        loss. Default value is `AUTO`. `AUTO` indicates that the reduction\n",
       "        option will be determined by the usage context. For almost all cases\n",
       "        this defaults to `SUM_OVER_BATCH_SIZE`. When used with\n",
       "        `tf.distribute.Strategy`, outside of built-in training loops such as\n",
       "        `tf.keras` `compile` and `fit`, using `AUTO` or `SUM_OVER_BATCH_SIZE`\n",
       "        will raise an error. Please see this custom training [tutorial](\n",
       "          https://www.tensorflow.org/tutorials/distribute/custom_training) for\n",
       "            more details.\n",
       "      name: Name for the op. Defaults to 'binary_crossentropy'.\n",
       "    \"\"\"\u001b[0m\u001b[1;33m\n",
       "\u001b[0m    \u001b[0msuper\u001b[0m\u001b[1;33m(\u001b[0m\u001b[1;33m)\u001b[0m\u001b[1;33m.\u001b[0m\u001b[0m__init__\u001b[0m\u001b[1;33m(\u001b[0m\u001b[1;33m\n",
       "\u001b[0m        \u001b[0mbinary_crossentropy\u001b[0m\u001b[1;33m,\u001b[0m\u001b[1;33m\n",
       "\u001b[0m        \u001b[0mname\u001b[0m\u001b[1;33m=\u001b[0m\u001b[0mname\u001b[0m\u001b[1;33m,\u001b[0m\u001b[1;33m\n",
       "\u001b[0m        \u001b[0mreduction\u001b[0m\u001b[1;33m=\u001b[0m\u001b[0mreduction\u001b[0m\u001b[1;33m,\u001b[0m\u001b[1;33m\n",
       "\u001b[0m        \u001b[0mfrom_logits\u001b[0m\u001b[1;33m=\u001b[0m\u001b[0mfrom_logits\u001b[0m\u001b[1;33m,\u001b[0m\u001b[1;33m\n",
       "\u001b[0m        \u001b[0mlabel_smoothing\u001b[0m\u001b[1;33m=\u001b[0m\u001b[0mlabel_smoothing\u001b[0m\u001b[1;33m,\u001b[0m\u001b[1;33m\n",
       "\u001b[0m        \u001b[0maxis\u001b[0m\u001b[1;33m=\u001b[0m\u001b[0maxis\u001b[0m\u001b[1;33m)\u001b[0m\u001b[1;33m\n",
       "\u001b[0m    \u001b[0mself\u001b[0m\u001b[1;33m.\u001b[0m\u001b[0mfrom_logits\u001b[0m \u001b[1;33m=\u001b[0m \u001b[0mfrom_logits\u001b[0m\u001b[1;33m\u001b[0m\u001b[1;33m\u001b[0m\u001b[0m\n",
       "\u001b[1;31mFile:\u001b[0m           c:\\users\\leah\\work\\lib\\site-packages\\keras\\losses.py\n",
       "\u001b[1;31mType:\u001b[0m           type\n",
       "\u001b[1;31mSubclasses:\u001b[0m     \n"
      ]
     },
     "metadata": {},
     "output_type": "display_data"
    }
   ],
   "source": [
    "tf.losses.BinaryCrossentropy??"
   ]
  },
  {
   "cell_type": "code",
   "execution_count": 54,
   "id": "e01f686c-5871-4174-ac06-f21b736d4020",
   "metadata": {},
   "outputs": [],
   "source": [
    "# compiles a function into a callable TensorFlow graph.\n",
    "@tf.function\n",
    "def train_step(batch):\n",
    "    \n",
    "    # allows us to start capturing gradients from neural network model\n",
    "    with tf.GradientTape() as tape:     \n",
    "        # Get anchor and positive/negative image\n",
    "        X = batch[:2]\n",
    "        # Get label\n",
    "        y = batch[2]\n",
    "        \n",
    "         \n",
    "        # Forward pass - making a prediction\n",
    "        yhat = siamese_model(X, training=True)\n",
    "        # Calculate loss - first pass through true y value, then y hat predicted value \n",
    "        loss = binary_cross_loss(y, yhat)\n",
    "        \n",
    "    print(loss)\n",
    "    \n",
    "    # Calculate gradients\n",
    "    grad = tape.gradient(loss, siamese_model.trainable_variables)\n",
    "    \n",
    "    # Calculate updated weights and apply to siamese model\n",
    "    opt.apply_gradients(zip(grad, siamese_model.trainable_variables))\n",
    "    \n",
    "    # Return loss\n",
    "    return loss"
   ]
  },
  {
   "cell_type": "code",
   "execution_count": 55,
   "id": "2248eeaf-b3f6-478b-9cae-bb0ead8182cc",
   "metadata": {},
   "outputs": [],
   "source": [
    "#An epoch means one complete pass of the training dataset through the algorithm.\n",
    "def train(data, EPOCHS):\n",
    "    # Loop through epochs\n",
    "    # going to start at one, and then increpent epochs by one\n",
    "    for epoch in range(1, EPOCHS+1):\n",
    "        #going to tell us eg 2/100 - will give us status update\n",
    "        print('\\n Epoch {}/{}'.format(epoch, EPOCHS))\n",
    "        # generate progress bar\n",
    "        progbar = tf.keras.utils.Progbar(len(data))\n",
    "        \n",
    "         # Loop through each batch\n",
    "        for idx, batch in enumerate(data):\n",
    "            # Run train step here\n",
    "            train_step(batch)\n",
    "            # update progress bar each time go through batch\n",
    "            progbar.update(idx+1)\n",
    "            \n",
    "        # every 10 epochs, save checkpoints\n",
    "        if epoch % 10 == 0: \n",
    "            checkpoint.save(file_prefix=checkpoint_prefix)      "
   ]
  },
  {
   "cell_type": "code",
   "execution_count": 56,
   "id": "2c672c1a-629a-439d-8bc5-24777f14b2cc",
   "metadata": {},
   "outputs": [],
   "source": [
    "EPOCHS = 50"
   ]
  },
  {
   "cell_type": "code",
   "execution_count": null,
   "id": "1920f149-7b46-4f0d-ae4a-8cc930ddc113",
   "metadata": {},
   "outputs": [
    {
     "name": "stdout",
     "output_type": "stream",
     "text": [
      "\n",
      " Epoch 1/50\n",
      "Tensor(\"binary_crossentropy/weighted_loss/value:0\", shape=(), dtype=float32)\n",
      "Tensor(\"binary_crossentropy/weighted_loss/value:0\", shape=(), dtype=float32)\n",
      "26/27 [===========================>..] - ETA: 48s Tensor(\"binary_crossentropy/weighted_loss/value:0\", shape=(), dtype=float32)\n",
      "27/27 [==============================] - 1283s 47s/step\n",
      "\n",
      " Epoch 2/50\n",
      "27/27 [==============================] - 1182s 44s/step\n",
      "\n",
      " Epoch 3/50\n",
      " 4/27 [===>..........................] - ETA: 20:22"
     ]
    }
   ],
   "source": [
    "train(train_data, EPOCHS)"
   ]
  },
  {
   "cell_type": "code",
   "execution_count": 1,
   "id": "ddf645c9-3285-474f-8630-6cf270bc0ccd",
   "metadata": {
    "tags": []
   },
   "outputs": [],
   "source": [
    "# Import metric calculations\n",
    "# precision computes the precision of the predictions with respect to the labels.\n",
    "# recall computes the recall of the predictions with respect to the labels.\n",
    "from tensorflow.keras.metrics import Precision, Recall"
   ]
  },
  {
   "cell_type": "code",
   "execution_count": 57,
   "id": "04f915dd-d765-4f02-a9b5-769b0348870b",
   "metadata": {
    "tags": []
   },
   "outputs": [],
   "source": [
    "# Get a batch of test data\n",
    "# convert tenserflow dataset into numpy iterator.3 values - 16 inputs, then 16 pos/negs then labels.\n",
    "test_input, test_val, y_true = test_data.as_numpy_iterator().next()"
   ]
  },
  {
   "cell_type": "code",
   "execution_count": null,
   "id": "e3b5d2c7-d523-4b1c-8523-73f619c63538",
   "metadata": {},
   "outputs": [],
   "source": [
    "# Make predictions - the ones with + on end are positive\n",
    "y_hat = siamese_model.predict([test_input, test_val])\n",
    "y_hat"
   ]
  },
  {
   "cell_type": "code",
   "execution_count": null,
   "id": "8c40c2a2-f32f-481f-98c6-66671111e1bf",
   "metadata": {},
   "outputs": [],
   "source": [
    "# Post processing the results \n",
    "[1 if prediction > 0.5 else 0 for prediction in y_hat ]"
   ]
  },
  {
   "cell_type": "code",
   "execution_count": null,
   "id": "59c3c929-3a2a-4bed-a503-b9342d8b8e55",
   "metadata": {},
   "outputs": [],
   "source": [
    "y_true"
   ]
  },
  {
   "cell_type": "code",
   "execution_count": null,
   "id": "4e843d0f-659c-4e2f-9136-91ec73b94230",
   "metadata": {},
   "outputs": [],
   "source": [
    "# Creating a metric object \n",
    "m = Recall()\n",
    "\n",
    "# Calculating the recall value \n",
    "m.update_state(y_true, y_hat)\n",
    "\n",
    "# Return Recall Result - converting to numpy \n",
    "m.result().numpy()"
   ]
  },
  {
   "cell_type": "code",
   "execution_count": null,
   "id": "a9505750-785a-4d49-a91b-fe7902265c97",
   "metadata": {},
   "outputs": [],
   "source": [
    "# Set plot size of pics underneath\n",
    "plt.figure(figsize=(10,8))\n",
    "\n",
    "# Set first subplot - since printing 2 images side by side so can have grid like format.\n",
    "# only got one row at the bottom, 2 columns, and first image inside first one\n",
    "plt.subplot(1,2,1)\n",
    "# controllimg which image this is - if changed the 0 will be diff pic\n",
    "plt.imshow(test_input[0])\n",
    "\n",
    "# Set second subplot\n",
    "plt.subplot(1,2,2)\n",
    "# this index should be the same as one above, to show looking at same sample\n",
    "plt.imshow(test_val[0])\n",
    "\n",
    "# Renders cleanly\n",
    "plt.show()"
   ]
  },
  {
   "cell_type": "code",
   "execution_count": null,
   "id": "04e3e706-f8a5-46ea-9a9e-eca1a3362804",
   "metadata": {},
   "outputs": [],
   "source": [
    "# saving model weights - model weights are all the parameters of the model\n",
    "siamese_model.save('siamesemodel.h5')"
   ]
  },
  {
   "cell_type": "code",
   "execution_count": null,
   "id": "91c24992-5105-478c-9c37-e0ccce8b05d7",
   "metadata": {},
   "outputs": [],
   "source": [
    "# Reload model \n",
    "# passing through l1Dist, binarycrossentropy\n",
    "model = tf.keras.models.load_model('siamesemodel.h5', \n",
    "                                   custom_objects={'L1Dist':L1Dist, 'BinaryCrossentropy':tf.losses.BinaryCrossentropy})"
   ]
  },
  {
   "cell_type": "code",
   "execution_count": null,
   "id": "ca4de682-0a6c-4665-9667-00841e1f49a2",
   "metadata": {},
   "outputs": [],
   "source": [
    "# Make predictions with reloaded model\n",
    "model.predict([test_input, test_val])"
   ]
  },
  {
   "cell_type": "code",
   "execution_count": null,
   "id": "ce4b2d4c-fd6d-4ae6-9330-dfc684d619ed",
   "metadata": {},
   "outputs": [],
   "source": [
    "model.summary()"
   ]
  },
  {
   "cell_type": "code",
   "execution_count": null,
   "id": "ad9d131a-716e-498e-8c66-870d8b5d63d0",
   "metadata": {},
   "outputs": [],
   "source": [
    "# acces webcam using open cv. from webcam we will get our input image.\n",
    "# use this input image and verify against a number of positive samples.\n",
    "# images that will be in a folder and eg 50 images - we'll use them and loop through them. so one verification cyvle will be 50 predictions which increses our chance that we'll accurately verify that the person in the input image is in our positive class.\n",
    "# our input image will be passed into the neural network as will the images in our positive class so if verified will be 1.\n",
    "# verification threshhold - above a certain prob we will consider it positive. \n",
    "# then we will count the number of classes that surpass verification threshhold.the number that pass / number of images in class = detection metric."
   ]
  },
  {
   "cell_type": "code",
   "execution_count": null,
   "id": "7911f024-4e36-4907-98ec-a382d95d2e44",
   "metadata": {},
   "outputs": [],
   "source": [
    "application_data\\verification_images"
   ]
  },
  {
   "cell_type": "code",
   "execution_count": null,
   "id": "91018db5-8815-4780-a049-fa932069f0d3",
   "metadata": {},
   "outputs": [],
   "source": [
    "os.path.join('application_data', 'input_image', 'input_image.jpg')"
   ]
  },
  {
   "cell_type": "code",
   "execution_count": null,
   "id": "01eed08e-623f-4cc5-90f4-5acbef6d62d6",
   "metadata": {},
   "outputs": [],
   "source": [
    "for image in os.listdir(os.path.join('application_data', 'verification_images')):\n",
    "    validation_img = os.path.join('application_data', 'verification_images', image)\n",
    "    print(validation_img)"
   ]
  },
  {
   "cell_type": "code",
   "execution_count": null,
   "id": "ecfd9737-d021-41b6-b89c-49398f3e5d9b",
   "metadata": {},
   "outputs": [],
   "source": [
    "def verify(model, detection_threshold, verification_threshold):\n",
    "    # Build results array - going to sotre all our results in a results array\n",
    "    results = []\n",
    "    # looping through every image inside verification images folder\n",
    "    for image in os.listdir(os.path.join('application_data', 'verification_images')):\n",
    "        # preprocess function for input image - read image, load image, rezise it and scale it.\n",
    "        input_img = preprocess(os.path.join('application_data', 'input_image', 'input_image.jpg'))\n",
    "        validation_img = preprocess(os.path.join('application_data', 'verification_images', image))\n",
    "        \n",
    "        # Make Predictions \n",
    "        result = model.predict(list(np.expand_dims([input_img, validation_img], axis=1)))\n",
    "        results.append(result)\n",
    "    \n",
    "    # Detection Threshold: Metric above which a prediciton is considered positive \n",
    "    detection = np.sum(np.array(results) > detection_threshold)\n",
    "    \n",
    "    # Verification Threshold: Proportion of positive predictions / total positive samples \n",
    "    verification = detection / len(os.listdir(os.path.join('application_data', 'verification_images'))) \n",
    "    # if verification is greater than threshhold will return true\n",
    "    verified = verification > verification_threshold\n",
    "    \n",
    "    return results, verified"
   ]
  },
  {
   "cell_type": "code",
   "execution_count": null,
   "id": "6a4ca187-3a70-4cde-a0ef-cad828b2a997",
   "metadata": {
    "tags": []
   },
   "outputs": [],
   "source": [
    "cap = cv2.VideoCapture(0)\n",
    "while cap.isOpened():\n",
    "    ret, frame = cap.read()\n",
    "    frame = frame[120:120+250,200:200+250, :]\n",
    "    \n",
    "    cv2.imshow('Verification', frame)\n",
    "    \n",
    "    # Verification trigger - wen hit v will kick off verification loop\n",
    "    if cv2.waitKey(10) & 0xFF == ord('v'):\n",
    "        # Save input image to application_data/input_image folder \n",
    "        cv2.imwrite(os.path.join('application_data', 'input_image', 'input_image.jpg'), frame)\n",
    "        # Run verification\n",
    "        results, verified = verify(model, 0.9, 0.7)\n",
    "        print(verified)\n",
    "    \n",
    "    if cv2.waitKey(10) & 0xFF == ord('q'):\n",
    "        break\n",
    "cap.release()\n",
    "cv2.destroyAllWindows()"
   ]
  }
 ],
 "metadata": {
  "kernelspec": {
   "display_name": "Python 3 (ipykernel)",
   "language": "python",
   "name": "python3"
  },
  "language_info": {
   "codemirror_mode": {
    "name": "ipython",
    "version": 3
   },
   "file_extension": ".py",
   "mimetype": "text/x-python",
   "name": "python",
   "nbconvert_exporter": "python",
   "pygments_lexer": "ipython3",
   "version": "3.10.4"
  }
 },
 "nbformat": 4,
 "nbformat_minor": 5
}
