{
 "cells": [
  {
   "cell_type": "code",
   "execution_count": 4,
   "id": "fc513347-6bd5-48fd-af07-ec3df01e5ec2",
   "metadata": {},
   "outputs": [],
   "source": [
    "# import standard dependencies\n",
    "import cv2\n",
    "import os\n",
    "import random\n",
    "import numpy as np\n",
    "from matplotlib import pyplot as plt\n",
    "import uuid # to generate unique image names\n",
    "\n",
    "# import tensorflow dependencies - Functional API. passing through 2 images at same time and measure the similarity. if similar = 1, if diff = 0\n",
    "from tensorflow.keras.models import Model #\n",
    "from tensorflow.keras.layers import Layer, Conv2D, Dense, MaxPooling2D, Input, Flatten\n",
    "import tensorflow as tf"
   ]
  },
  {
   "cell_type": "code",
   "execution_count": 6,
   "id": "efc212e4-76b8-4a26-81d5-06f70bcd42cd",
   "metadata": {},
   "outputs": [],
   "source": [
    "# setup paths\n",
    "POS_PATH = os.path.join('data', 'positive') #joins dif directories together to be able to form a full file path. positive verification images\n",
    "NEG_PATH = os.path.join('data', 'negative') #negative verification image\n",
    "ANC_PATH = os.path.join('data', 'anchor')\n"
   ]
  },
  {
   "cell_type": "code",
   "execution_count": null,
   "id": "e71aa473-76d7-40ed-892c-fe982c3533cb",
   "metadata": {},
   "outputs": [],
   "source": []
  }
 ],
 "metadata": {
  "kernelspec": {
   "display_name": "Python 3 (ipykernel)",
   "language": "python",
   "name": "python3"
  },
  "language_info": {
   "codemirror_mode": {
    "name": "ipython",
    "version": 3
   },
   "file_extension": ".py",
   "mimetype": "text/x-python",
   "name": "python",
   "nbconvert_exporter": "python",
   "pygments_lexer": "ipython3",
   "version": "3.10.4"
  }
 },
 "nbformat": 4,
 "nbformat_minor": 5
}
